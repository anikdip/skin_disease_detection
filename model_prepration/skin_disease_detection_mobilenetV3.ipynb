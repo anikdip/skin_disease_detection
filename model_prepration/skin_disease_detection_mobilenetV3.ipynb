{
 "cells": [
  {
   "cell_type": "code",
   "execution_count": 3,
   "id": "initial_id",
   "metadata": {
    "collapsed": true,
    "ExecuteTime": {
     "end_time": "2024-09-16T13:56:32.056719Z",
     "start_time": "2024-09-16T13:56:01.194463Z"
    }
   },
   "outputs": [
    {
     "name": "stdout",
     "output_type": "stream",
     "text": [
      "Requirement already satisfied: torchvision in d:\\workspace\\aml\\experiment\\venv\\lib\\site-packages (0.19.1)\n",
      "Requirement already satisfied: numpy in d:\\workspace\\aml\\experiment\\venv\\lib\\site-packages (from torchvision) (2.1.0)\n",
      "Requirement already satisfied: torch==2.4.1 in d:\\workspace\\aml\\experiment\\venv\\lib\\site-packages (from torchvision) (2.4.1)\n",
      "Requirement already satisfied: pillow!=8.3.*,>=5.3.0 in d:\\workspace\\aml\\experiment\\venv\\lib\\site-packages (from torchvision) (10.4.0)\n",
      "Requirement already satisfied: filelock in d:\\workspace\\aml\\experiment\\venv\\lib\\site-packages (from torch==2.4.1->torchvision) (3.16.1)\n",
      "Requirement already satisfied: typing-extensions>=4.8.0 in d:\\workspace\\aml\\experiment\\venv\\lib\\site-packages (from torch==2.4.1->torchvision) (4.12.2)\n",
      "Requirement already satisfied: sympy in d:\\workspace\\aml\\experiment\\venv\\lib\\site-packages (from torch==2.4.1->torchvision) (1.13.3)\n",
      "Requirement already satisfied: networkx in d:\\workspace\\aml\\experiment\\venv\\lib\\site-packages (from torch==2.4.1->torchvision) (3.3)\n",
      "Requirement already satisfied: jinja2 in d:\\workspace\\aml\\experiment\\venv\\lib\\site-packages (from torch==2.4.1->torchvision) (3.1.4)\n",
      "Requirement already satisfied: fsspec in d:\\workspace\\aml\\experiment\\venv\\lib\\site-packages (from torch==2.4.1->torchvision) (2024.9.0)\n",
      "Requirement already satisfied: MarkupSafe>=2.0 in d:\\workspace\\aml\\experiment\\venv\\lib\\site-packages (from jinja2->torch==2.4.1->torchvision) (2.1.5)\n",
      "Requirement already satisfied: mpmath<1.4,>=1.1.0 in d:\\workspace\\aml\\experiment\\venv\\lib\\site-packages (from sympy->torch==2.4.1->torchvision) (1.3.0)\n"
     ]
    },
    {
     "name": "stderr",
     "output_type": "stream",
     "text": [
      "\n",
      "[notice] A new release of pip available: 22.3.1 -> 24.2\n",
      "[notice] To update, run: python.exe -m pip install --upgrade pip\n"
     ]
    }
   ],
   "source": [
    "!pip3 install torchvision"
   ]
  },
  {
   "cell_type": "code",
   "outputs": [],
   "source": [
    "import pandas as pd\n",
    "import os\n",
    "from PIL import Image\n",
    "import torch\n",
    "import torch.nn as nn\n",
    "import torch.optim as optim\n",
    "from torch.utils.data import Dataset, DataLoader\n",
    "from torchvision import transforms, models\n",
    "from sklearn.metrics import accuracy_score\n",
    "from sklearn.preprocessing import LabelEncoder\n",
    "from torch.utils.data import DataLoader, random_split"
   ],
   "metadata": {
    "collapsed": false,
    "ExecuteTime": {
     "end_time": "2024-10-15T15:27:04.058662Z",
     "start_time": "2024-10-15T15:27:03.912912Z"
    }
   },
   "id": "96eb03965646c62b",
   "execution_count": 58
  },
  {
   "cell_type": "markdown",
   "source": [
    "# Set device (GPU/CPU)"
   ],
   "metadata": {
    "collapsed": false
   },
   "id": "3947613a7601635"
  },
  {
   "cell_type": "code",
   "outputs": [],
   "source": [
    "device = torch.device(\"cuda\" if torch.cuda.is_available() else \"cpu\")"
   ],
   "metadata": {
    "collapsed": false,
    "ExecuteTime": {
     "end_time": "2024-10-15T15:27:06.045155Z",
     "start_time": "2024-10-15T15:27:06.039668Z"
    }
   },
   "id": "95c8a0d57e1950a7",
   "execution_count": 59
  },
  {
   "cell_type": "markdown",
   "source": [
    "# Hyperparameters"
   ],
   "metadata": {
    "collapsed": false
   },
   "id": "9fe150999ca4075"
  },
  {
   "cell_type": "code",
   "outputs": [],
   "source": [
    "num_epochs = 10\n",
    "learning_rate = 0.001\n",
    "batch_size = 32\n",
    "num_classes = 9  # benign and malignant\n",
    "weight_decay = 0.05\n",
    "num_workers = 6"
   ],
   "metadata": {
    "collapsed": false,
    "ExecuteTime": {
     "end_time": "2024-10-15T15:27:07.768462Z",
     "start_time": "2024-10-15T15:27:07.756499Z"
    }
   },
   "id": "8784ad919689cd60",
   "execution_count": 60
  },
  {
   "cell_type": "markdown",
   "source": [
    "# Define custom dataset class"
   ],
   "metadata": {
    "collapsed": false
   },
   "id": "81e9af369feac9ce"
  },
  {
   "cell_type": "code",
   "outputs": [],
   "source": [
    "class SkinDiseaseDataset(Dataset):\n",
    "    def __init__(self, csv_file, img_dir, transform=None):\n",
    "        self.data_frame = csv_file\n",
    "        self.img_dir = img_dir\n",
    "        self.transform = transform\n",
    "\n",
    "    def __len__(self):\n",
    "        return len(self.data_frame)\n",
    "\n",
    "    def __getitem__(self, idx):\n",
    "        # self.data_frame = self.data_frame[self.data_frame['image_type'] == 'dermoscopic']\n",
    "        img_name = os.path.join(self.img_dir, self.data_frame.iloc[idx, 0])\n",
    "        image = Image.open(img_name+\".jpg\").convert('RGB')  # Open image\n",
    "\n",
    "        label = int(self.data_frame.iloc[idx, -1])\n",
    "\n",
    "        if self.transform:\n",
    "            image = self.transform(image)\n",
    "\n",
    "        return image, label"
   ],
   "metadata": {
    "collapsed": false,
    "ExecuteTime": {
     "end_time": "2024-10-15T15:32:27.999845Z",
     "start_time": "2024-10-15T15:32:27.970759Z"
    }
   },
   "id": "b68a6d5de6bfbe8b",
   "execution_count": 71
  },
  {
   "cell_type": "markdown",
   "source": [
    "# Image transformations (data augmentation + normalization)"
   ],
   "metadata": {
    "collapsed": false
   },
   "id": "a84bc4dda66be6e6"
  },
  {
   "cell_type": "code",
   "outputs": [],
   "source": [
    "transform = transforms.Compose([\n",
    "    transforms.RandomResizedCrop(224, scale=(0.8, 1.0)),  # Slight zooming in and out\n",
    "    transforms.RandomHorizontalFlip(),  # Horizontal flip\n",
    "    transforms.RandomRotation(degrees=10),  # Mild rotation\n",
    "    transforms.ColorJitter(brightness=0.3, contrast=0.3, saturation=0.2),  # Adjusting lighting conditions\n",
    "    transforms.ToTensor(),\n",
    "    transforms.Normalize(mean=[0.485, 0.456, 0.406], std=[0.229, 0.224, 0.225])\n",
    "])"
   ],
   "metadata": {
    "collapsed": false,
    "ExecuteTime": {
     "end_time": "2024-10-15T15:32:29.857477Z",
     "start_time": "2024-10-15T15:32:29.853253Z"
    }
   },
   "id": "65d9141f30a386d4",
   "execution_count": 72
  },
  {
   "cell_type": "markdown",
   "source": [
    "# Load CSV and dataset"
   ],
   "metadata": {
    "collapsed": false
   },
   "id": "43714d2c22e08e42"
  },
  {
   "cell_type": "code",
   "outputs": [
    {
     "name": "stderr",
     "output_type": "stream",
     "text": [
      "/Library/Frameworks/Python.framework/Versions/3.11/lib/python3.11/site-packages/sklearn/utils/validation.py:605: FutureWarning: is_sparse is deprecated and will be removed in a future version. Check `isinstance(dtype, pd.SparseDtype)` instead.\n",
      "  if is_sparse(pd_dtype):\n",
      "/Library/Frameworks/Python.framework/Versions/3.11/lib/python3.11/site-packages/sklearn/utils/validation.py:614: FutureWarning: is_sparse is deprecated and will be removed in a future version. Check `isinstance(dtype, pd.SparseDtype)` instead.\n",
      "  if is_sparse(pd_dtype) or not is_extension_array_dtype(pd_dtype):\n",
      "/Library/Frameworks/Python.framework/Versions/3.11/lib/python3.11/site-packages/sklearn/utils/validation.py:605: FutureWarning: is_sparse is deprecated and will be removed in a future version. Check `isinstance(dtype, pd.SparseDtype)` instead.\n",
      "  if is_sparse(pd_dtype):\n",
      "/Library/Frameworks/Python.framework/Versions/3.11/lib/python3.11/site-packages/sklearn/utils/validation.py:614: FutureWarning: is_sparse is deprecated and will be removed in a future version. Check `isinstance(dtype, pd.SparseDtype)` instead.\n",
      "  if is_sparse(pd_dtype) or not is_extension_array_dtype(pd_dtype):\n"
     ]
    }
   ],
   "source": [
    "train_csv = '../data/metadata/train_metadata.csv'\n",
    "train_data = pd.read_csv(train_csv)\n",
    "train_data = train_data[train_data['image_type'] == 'dermoscopic']\n",
    "test_csv = '../data/metadata/test_metadata.csv'\n",
    "test_data = pd.read_csv(test_csv)\n",
    "test_data = test_data[test_data['image_type'] == 'dermoscopic']\n",
    "image_dir_train = '../data/train_image'\n",
    "image_dir_test = '../data/test_image'\n",
    "\n",
    "train_data['diagnosis_label'] = LabelEncoder().fit_transform(train_data['diagnosis'])\n",
    "test_data['diagnosis_label'] = LabelEncoder().fit_transform(test_data['diagnosis'])\n",
    "\n",
    "# Data splitting (80% for training, 20% for validation)\n",
    "# total_size = len(train_data)\n",
    "# train_size = int(0.80 * total_size)\n",
    "# validation_size = int(0.20 * total_size)\n",
    "# \n",
    "# train_set, validation_set = random_split(train_data, [train_size, validation_size])\n",
    "\n",
    "\n",
    "train_dataset = SkinDiseaseDataset(csv_file=train_data, img_dir=image_dir_train, transform=transform)\n",
    "# validation_dataset = SkinDiseaseDataset(csv_file=validation_set, img_dir=image_dir_train, transform=transform)\n",
    "test_dataset = SkinDiseaseDataset(csv_file=test_data, img_dir=image_dir_test, transform=transform)\n",
    "\n",
    "train_loader = DataLoader(dataset=train_dataset, batch_size=batch_size, shuffle=True)\n",
    "# validation_loader = DataLoader(dataset=validation_dataset, batch_size=batch_size, shuffle=True, num_workers=num_workers, prefetch_factor=2, persistent_workers=True)\n",
    "test_loader = DataLoader(dataset=test_dataset, batch_size=batch_size, shuffle=False)"
   ],
   "metadata": {
    "collapsed": false,
    "ExecuteTime": {
     "end_time": "2024-10-15T15:32:31.737447Z",
     "start_time": "2024-10-15T15:32:31.675278Z"
    }
   },
   "id": "d18db7d65a9f218b",
   "execution_count": 73
  },
  {
   "cell_type": "markdown",
   "source": [
    "# Load a pre-trained CNN model (ResNet18)"
   ],
   "metadata": {
    "collapsed": false
   },
   "id": "c2b985d2b0c10aa7"
  },
  {
   "cell_type": "code",
   "outputs": [
    {
     "data": {
      "text/plain": "MobileNetV3(\n  (features): Sequential(\n    (0): Conv2dNormActivation(\n      (0): Conv2d(3, 16, kernel_size=(3, 3), stride=(2, 2), padding=(1, 1), bias=False)\n      (1): BatchNorm2d(16, eps=0.001, momentum=0.01, affine=True, track_running_stats=True)\n      (2): Hardswish()\n    )\n    (1): InvertedResidual(\n      (block): Sequential(\n        (0): Conv2dNormActivation(\n          (0): Conv2d(16, 16, kernel_size=(3, 3), stride=(1, 1), padding=(1, 1), groups=16, bias=False)\n          (1): BatchNorm2d(16, eps=0.001, momentum=0.01, affine=True, track_running_stats=True)\n          (2): ReLU(inplace=True)\n        )\n        (1): Conv2dNormActivation(\n          (0): Conv2d(16, 16, kernel_size=(1, 1), stride=(1, 1), bias=False)\n          (1): BatchNorm2d(16, eps=0.001, momentum=0.01, affine=True, track_running_stats=True)\n        )\n      )\n    )\n    (2): InvertedResidual(\n      (block): Sequential(\n        (0): Conv2dNormActivation(\n          (0): Conv2d(16, 64, kernel_size=(1, 1), stride=(1, 1), bias=False)\n          (1): BatchNorm2d(64, eps=0.001, momentum=0.01, affine=True, track_running_stats=True)\n          (2): ReLU(inplace=True)\n        )\n        (1): Conv2dNormActivation(\n          (0): Conv2d(64, 64, kernel_size=(3, 3), stride=(2, 2), padding=(1, 1), groups=64, bias=False)\n          (1): BatchNorm2d(64, eps=0.001, momentum=0.01, affine=True, track_running_stats=True)\n          (2): ReLU(inplace=True)\n        )\n        (2): Conv2dNormActivation(\n          (0): Conv2d(64, 24, kernel_size=(1, 1), stride=(1, 1), bias=False)\n          (1): BatchNorm2d(24, eps=0.001, momentum=0.01, affine=True, track_running_stats=True)\n        )\n      )\n    )\n    (3): InvertedResidual(\n      (block): Sequential(\n        (0): Conv2dNormActivation(\n          (0): Conv2d(24, 72, kernel_size=(1, 1), stride=(1, 1), bias=False)\n          (1): BatchNorm2d(72, eps=0.001, momentum=0.01, affine=True, track_running_stats=True)\n          (2): ReLU(inplace=True)\n        )\n        (1): Conv2dNormActivation(\n          (0): Conv2d(72, 72, kernel_size=(3, 3), stride=(1, 1), padding=(1, 1), groups=72, bias=False)\n          (1): BatchNorm2d(72, eps=0.001, momentum=0.01, affine=True, track_running_stats=True)\n          (2): ReLU(inplace=True)\n        )\n        (2): Conv2dNormActivation(\n          (0): Conv2d(72, 24, kernel_size=(1, 1), stride=(1, 1), bias=False)\n          (1): BatchNorm2d(24, eps=0.001, momentum=0.01, affine=True, track_running_stats=True)\n        )\n      )\n    )\n    (4): InvertedResidual(\n      (block): Sequential(\n        (0): Conv2dNormActivation(\n          (0): Conv2d(24, 72, kernel_size=(1, 1), stride=(1, 1), bias=False)\n          (1): BatchNorm2d(72, eps=0.001, momentum=0.01, affine=True, track_running_stats=True)\n          (2): ReLU(inplace=True)\n        )\n        (1): Conv2dNormActivation(\n          (0): Conv2d(72, 72, kernel_size=(5, 5), stride=(2, 2), padding=(2, 2), groups=72, bias=False)\n          (1): BatchNorm2d(72, eps=0.001, momentum=0.01, affine=True, track_running_stats=True)\n          (2): ReLU(inplace=True)\n        )\n        (2): SqueezeExcitation(\n          (avgpool): AdaptiveAvgPool2d(output_size=1)\n          (fc1): Conv2d(72, 24, kernel_size=(1, 1), stride=(1, 1))\n          (fc2): Conv2d(24, 72, kernel_size=(1, 1), stride=(1, 1))\n          (activation): ReLU()\n          (scale_activation): Hardsigmoid()\n        )\n        (3): Conv2dNormActivation(\n          (0): Conv2d(72, 40, kernel_size=(1, 1), stride=(1, 1), bias=False)\n          (1): BatchNorm2d(40, eps=0.001, momentum=0.01, affine=True, track_running_stats=True)\n        )\n      )\n    )\n    (5): InvertedResidual(\n      (block): Sequential(\n        (0): Conv2dNormActivation(\n          (0): Conv2d(40, 120, kernel_size=(1, 1), stride=(1, 1), bias=False)\n          (1): BatchNorm2d(120, eps=0.001, momentum=0.01, affine=True, track_running_stats=True)\n          (2): ReLU(inplace=True)\n        )\n        (1): Conv2dNormActivation(\n          (0): Conv2d(120, 120, kernel_size=(5, 5), stride=(1, 1), padding=(2, 2), groups=120, bias=False)\n          (1): BatchNorm2d(120, eps=0.001, momentum=0.01, affine=True, track_running_stats=True)\n          (2): ReLU(inplace=True)\n        )\n        (2): SqueezeExcitation(\n          (avgpool): AdaptiveAvgPool2d(output_size=1)\n          (fc1): Conv2d(120, 32, kernel_size=(1, 1), stride=(1, 1))\n          (fc2): Conv2d(32, 120, kernel_size=(1, 1), stride=(1, 1))\n          (activation): ReLU()\n          (scale_activation): Hardsigmoid()\n        )\n        (3): Conv2dNormActivation(\n          (0): Conv2d(120, 40, kernel_size=(1, 1), stride=(1, 1), bias=False)\n          (1): BatchNorm2d(40, eps=0.001, momentum=0.01, affine=True, track_running_stats=True)\n        )\n      )\n    )\n    (6): InvertedResidual(\n      (block): Sequential(\n        (0): Conv2dNormActivation(\n          (0): Conv2d(40, 120, kernel_size=(1, 1), stride=(1, 1), bias=False)\n          (1): BatchNorm2d(120, eps=0.001, momentum=0.01, affine=True, track_running_stats=True)\n          (2): ReLU(inplace=True)\n        )\n        (1): Conv2dNormActivation(\n          (0): Conv2d(120, 120, kernel_size=(5, 5), stride=(1, 1), padding=(2, 2), groups=120, bias=False)\n          (1): BatchNorm2d(120, eps=0.001, momentum=0.01, affine=True, track_running_stats=True)\n          (2): ReLU(inplace=True)\n        )\n        (2): SqueezeExcitation(\n          (avgpool): AdaptiveAvgPool2d(output_size=1)\n          (fc1): Conv2d(120, 32, kernel_size=(1, 1), stride=(1, 1))\n          (fc2): Conv2d(32, 120, kernel_size=(1, 1), stride=(1, 1))\n          (activation): ReLU()\n          (scale_activation): Hardsigmoid()\n        )\n        (3): Conv2dNormActivation(\n          (0): Conv2d(120, 40, kernel_size=(1, 1), stride=(1, 1), bias=False)\n          (1): BatchNorm2d(40, eps=0.001, momentum=0.01, affine=True, track_running_stats=True)\n        )\n      )\n    )\n    (7): InvertedResidual(\n      (block): Sequential(\n        (0): Conv2dNormActivation(\n          (0): Conv2d(40, 240, kernel_size=(1, 1), stride=(1, 1), bias=False)\n          (1): BatchNorm2d(240, eps=0.001, momentum=0.01, affine=True, track_running_stats=True)\n          (2): Hardswish()\n        )\n        (1): Conv2dNormActivation(\n          (0): Conv2d(240, 240, kernel_size=(3, 3), stride=(2, 2), padding=(1, 1), groups=240, bias=False)\n          (1): BatchNorm2d(240, eps=0.001, momentum=0.01, affine=True, track_running_stats=True)\n          (2): Hardswish()\n        )\n        (2): Conv2dNormActivation(\n          (0): Conv2d(240, 80, kernel_size=(1, 1), stride=(1, 1), bias=False)\n          (1): BatchNorm2d(80, eps=0.001, momentum=0.01, affine=True, track_running_stats=True)\n        )\n      )\n    )\n    (8): InvertedResidual(\n      (block): Sequential(\n        (0): Conv2dNormActivation(\n          (0): Conv2d(80, 200, kernel_size=(1, 1), stride=(1, 1), bias=False)\n          (1): BatchNorm2d(200, eps=0.001, momentum=0.01, affine=True, track_running_stats=True)\n          (2): Hardswish()\n        )\n        (1): Conv2dNormActivation(\n          (0): Conv2d(200, 200, kernel_size=(3, 3), stride=(1, 1), padding=(1, 1), groups=200, bias=False)\n          (1): BatchNorm2d(200, eps=0.001, momentum=0.01, affine=True, track_running_stats=True)\n          (2): Hardswish()\n        )\n        (2): Conv2dNormActivation(\n          (0): Conv2d(200, 80, kernel_size=(1, 1), stride=(1, 1), bias=False)\n          (1): BatchNorm2d(80, eps=0.001, momentum=0.01, affine=True, track_running_stats=True)\n        )\n      )\n    )\n    (9): InvertedResidual(\n      (block): Sequential(\n        (0): Conv2dNormActivation(\n          (0): Conv2d(80, 184, kernel_size=(1, 1), stride=(1, 1), bias=False)\n          (1): BatchNorm2d(184, eps=0.001, momentum=0.01, affine=True, track_running_stats=True)\n          (2): Hardswish()\n        )\n        (1): Conv2dNormActivation(\n          (0): Conv2d(184, 184, kernel_size=(3, 3), stride=(1, 1), padding=(1, 1), groups=184, bias=False)\n          (1): BatchNorm2d(184, eps=0.001, momentum=0.01, affine=True, track_running_stats=True)\n          (2): Hardswish()\n        )\n        (2): Conv2dNormActivation(\n          (0): Conv2d(184, 80, kernel_size=(1, 1), stride=(1, 1), bias=False)\n          (1): BatchNorm2d(80, eps=0.001, momentum=0.01, affine=True, track_running_stats=True)\n        )\n      )\n    )\n    (10): InvertedResidual(\n      (block): Sequential(\n        (0): Conv2dNormActivation(\n          (0): Conv2d(80, 184, kernel_size=(1, 1), stride=(1, 1), bias=False)\n          (1): BatchNorm2d(184, eps=0.001, momentum=0.01, affine=True, track_running_stats=True)\n          (2): Hardswish()\n        )\n        (1): Conv2dNormActivation(\n          (0): Conv2d(184, 184, kernel_size=(3, 3), stride=(1, 1), padding=(1, 1), groups=184, bias=False)\n          (1): BatchNorm2d(184, eps=0.001, momentum=0.01, affine=True, track_running_stats=True)\n          (2): Hardswish()\n        )\n        (2): Conv2dNormActivation(\n          (0): Conv2d(184, 80, kernel_size=(1, 1), stride=(1, 1), bias=False)\n          (1): BatchNorm2d(80, eps=0.001, momentum=0.01, affine=True, track_running_stats=True)\n        )\n      )\n    )\n    (11): InvertedResidual(\n      (block): Sequential(\n        (0): Conv2dNormActivation(\n          (0): Conv2d(80, 480, kernel_size=(1, 1), stride=(1, 1), bias=False)\n          (1): BatchNorm2d(480, eps=0.001, momentum=0.01, affine=True, track_running_stats=True)\n          (2): Hardswish()\n        )\n        (1): Conv2dNormActivation(\n          (0): Conv2d(480, 480, kernel_size=(3, 3), stride=(1, 1), padding=(1, 1), groups=480, bias=False)\n          (1): BatchNorm2d(480, eps=0.001, momentum=0.01, affine=True, track_running_stats=True)\n          (2): Hardswish()\n        )\n        (2): SqueezeExcitation(\n          (avgpool): AdaptiveAvgPool2d(output_size=1)\n          (fc1): Conv2d(480, 120, kernel_size=(1, 1), stride=(1, 1))\n          (fc2): Conv2d(120, 480, kernel_size=(1, 1), stride=(1, 1))\n          (activation): ReLU()\n          (scale_activation): Hardsigmoid()\n        )\n        (3): Conv2dNormActivation(\n          (0): Conv2d(480, 112, kernel_size=(1, 1), stride=(1, 1), bias=False)\n          (1): BatchNorm2d(112, eps=0.001, momentum=0.01, affine=True, track_running_stats=True)\n        )\n      )\n    )\n    (12): InvertedResidual(\n      (block): Sequential(\n        (0): Conv2dNormActivation(\n          (0): Conv2d(112, 672, kernel_size=(1, 1), stride=(1, 1), bias=False)\n          (1): BatchNorm2d(672, eps=0.001, momentum=0.01, affine=True, track_running_stats=True)\n          (2): Hardswish()\n        )\n        (1): Conv2dNormActivation(\n          (0): Conv2d(672, 672, kernel_size=(3, 3), stride=(1, 1), padding=(1, 1), groups=672, bias=False)\n          (1): BatchNorm2d(672, eps=0.001, momentum=0.01, affine=True, track_running_stats=True)\n          (2): Hardswish()\n        )\n        (2): SqueezeExcitation(\n          (avgpool): AdaptiveAvgPool2d(output_size=1)\n          (fc1): Conv2d(672, 168, kernel_size=(1, 1), stride=(1, 1))\n          (fc2): Conv2d(168, 672, kernel_size=(1, 1), stride=(1, 1))\n          (activation): ReLU()\n          (scale_activation): Hardsigmoid()\n        )\n        (3): Conv2dNormActivation(\n          (0): Conv2d(672, 112, kernel_size=(1, 1), stride=(1, 1), bias=False)\n          (1): BatchNorm2d(112, eps=0.001, momentum=0.01, affine=True, track_running_stats=True)\n        )\n      )\n    )\n    (13): InvertedResidual(\n      (block): Sequential(\n        (0): Conv2dNormActivation(\n          (0): Conv2d(112, 672, kernel_size=(1, 1), stride=(1, 1), bias=False)\n          (1): BatchNorm2d(672, eps=0.001, momentum=0.01, affine=True, track_running_stats=True)\n          (2): Hardswish()\n        )\n        (1): Conv2dNormActivation(\n          (0): Conv2d(672, 672, kernel_size=(5, 5), stride=(2, 2), padding=(2, 2), groups=672, bias=False)\n          (1): BatchNorm2d(672, eps=0.001, momentum=0.01, affine=True, track_running_stats=True)\n          (2): Hardswish()\n        )\n        (2): SqueezeExcitation(\n          (avgpool): AdaptiveAvgPool2d(output_size=1)\n          (fc1): Conv2d(672, 168, kernel_size=(1, 1), stride=(1, 1))\n          (fc2): Conv2d(168, 672, kernel_size=(1, 1), stride=(1, 1))\n          (activation): ReLU()\n          (scale_activation): Hardsigmoid()\n        )\n        (3): Conv2dNormActivation(\n          (0): Conv2d(672, 160, kernel_size=(1, 1), stride=(1, 1), bias=False)\n          (1): BatchNorm2d(160, eps=0.001, momentum=0.01, affine=True, track_running_stats=True)\n        )\n      )\n    )\n    (14): InvertedResidual(\n      (block): Sequential(\n        (0): Conv2dNormActivation(\n          (0): Conv2d(160, 960, kernel_size=(1, 1), stride=(1, 1), bias=False)\n          (1): BatchNorm2d(960, eps=0.001, momentum=0.01, affine=True, track_running_stats=True)\n          (2): Hardswish()\n        )\n        (1): Conv2dNormActivation(\n          (0): Conv2d(960, 960, kernel_size=(5, 5), stride=(1, 1), padding=(2, 2), groups=960, bias=False)\n          (1): BatchNorm2d(960, eps=0.001, momentum=0.01, affine=True, track_running_stats=True)\n          (2): Hardswish()\n        )\n        (2): SqueezeExcitation(\n          (avgpool): AdaptiveAvgPool2d(output_size=1)\n          (fc1): Conv2d(960, 240, kernel_size=(1, 1), stride=(1, 1))\n          (fc2): Conv2d(240, 960, kernel_size=(1, 1), stride=(1, 1))\n          (activation): ReLU()\n          (scale_activation): Hardsigmoid()\n        )\n        (3): Conv2dNormActivation(\n          (0): Conv2d(960, 160, kernel_size=(1, 1), stride=(1, 1), bias=False)\n          (1): BatchNorm2d(160, eps=0.001, momentum=0.01, affine=True, track_running_stats=True)\n        )\n      )\n    )\n    (15): InvertedResidual(\n      (block): Sequential(\n        (0): Conv2dNormActivation(\n          (0): Conv2d(160, 960, kernel_size=(1, 1), stride=(1, 1), bias=False)\n          (1): BatchNorm2d(960, eps=0.001, momentum=0.01, affine=True, track_running_stats=True)\n          (2): Hardswish()\n        )\n        (1): Conv2dNormActivation(\n          (0): Conv2d(960, 960, kernel_size=(5, 5), stride=(1, 1), padding=(2, 2), groups=960, bias=False)\n          (1): BatchNorm2d(960, eps=0.001, momentum=0.01, affine=True, track_running_stats=True)\n          (2): Hardswish()\n        )\n        (2): SqueezeExcitation(\n          (avgpool): AdaptiveAvgPool2d(output_size=1)\n          (fc1): Conv2d(960, 240, kernel_size=(1, 1), stride=(1, 1))\n          (fc2): Conv2d(240, 960, kernel_size=(1, 1), stride=(1, 1))\n          (activation): ReLU()\n          (scale_activation): Hardsigmoid()\n        )\n        (3): Conv2dNormActivation(\n          (0): Conv2d(960, 160, kernel_size=(1, 1), stride=(1, 1), bias=False)\n          (1): BatchNorm2d(160, eps=0.001, momentum=0.01, affine=True, track_running_stats=True)\n        )\n      )\n    )\n    (16): Conv2dNormActivation(\n      (0): Conv2d(160, 960, kernel_size=(1, 1), stride=(1, 1), bias=False)\n      (1): BatchNorm2d(960, eps=0.001, momentum=0.01, affine=True, track_running_stats=True)\n      (2): Hardswish()\n    )\n  )\n  (avgpool): AdaptiveAvgPool2d(output_size=1)\n  (classifier): Sequential(\n    (0): Linear(in_features=960, out_features=512, bias=True)\n    (1): ReLU()\n    (2): BatchNorm1d(512, eps=1e-05, momentum=0.1, affine=True, track_running_stats=True)\n    (3): Dropout(p=0.5, inplace=False)\n    (4): Linear(in_features=512, out_features=256, bias=True)\n    (5): ReLU()\n    (6): BatchNorm1d(256, eps=1e-05, momentum=0.1, affine=True, track_running_stats=True)\n    (7): Dropout(p=0.5, inplace=False)\n    (8): Linear(in_features=256, out_features=101, bias=True)\n  )\n)"
     },
     "execution_count": 74,
     "metadata": {},
     "output_type": "execute_result"
    }
   ],
   "source": [
    "model = models.mobilenet_v3_large(weights=models.MobileNet_V3_Large_Weights.DEFAULT)\n",
    "\n",
    "# Check the output features of the last layer\n",
    "feature_num = model.features[-1].out_channels\n",
    "\n",
    "# Initially, freeze all layers\n",
    "for param in model.parameters():\n",
    "    param.requires_grad = False\n",
    "\n",
    "# Unfreeze blocks from 10 to the last block\n",
    "for i in range(10, len(model.features)):\n",
    "    for param in model.features[i].parameters():\n",
    "        param.requires_grad = True\n",
    "\n",
    "# Modify the classifier for Food101 dataset\n",
    "model.classifier = nn.Sequential(\n",
    "    nn.Linear(feature_num, 512),\n",
    "    nn.ReLU(),\n",
    "    nn.BatchNorm1d(512),  # batch normalization\n",
    "    nn.Dropout(0.5),      # dropout rate\n",
    "    nn.Linear(512, 256),\n",
    "    nn.ReLU(),\n",
    "    nn.BatchNorm1d(256),  # batch normalization\n",
    "    nn.Dropout(0.5),      #  dropout rate\n",
    "    nn.Linear(256, 101)   # there are 101 classes\n",
    ")\n",
    "\n",
    "# Move the model to the specified device\n",
    "model.to(device)"
   ],
   "metadata": {
    "collapsed": false,
    "ExecuteTime": {
     "end_time": "2024-10-15T15:32:35.338407Z",
     "start_time": "2024-10-15T15:32:35.119188Z"
    }
   },
   "id": "99134887f5ffd10a",
   "execution_count": 74
  },
  {
   "cell_type": "markdown",
   "source": [
    "# Loss and optimizer"
   ],
   "metadata": {
    "collapsed": false
   },
   "id": "e916308fe7254437"
  },
  {
   "cell_type": "code",
   "outputs": [],
   "source": [
    "criterion = nn.CrossEntropyLoss()\n",
    "params_to_update = [param for param in model.parameters() if param.requires_grad]\n",
    "optimizer = torch.optim.AdamW(params_to_update, lr=learning_rate, weight_decay=weight_decay)"
   ],
   "metadata": {
    "collapsed": false,
    "ExecuteTime": {
     "end_time": "2024-10-15T15:32:37.836285Z",
     "start_time": "2024-10-15T15:32:37.825798Z"
    }
   },
   "id": "82b49f11f46c8029",
   "execution_count": 75
  },
  {
   "cell_type": "markdown",
   "source": [
    "# Training loop"
   ],
   "metadata": {
    "collapsed": false
   },
   "id": "d4ac98ee88bc008c"
  },
  {
   "cell_type": "code",
   "outputs": [],
   "source": [
    "# Number of epochs\n",
    "num_epochs = 10\n",
    "train_losses, val_losses = [], []\n",
    "train_accuracies, val_accuracies = [], []\n",
    "\n",
    "best_val_loss = float('inf')\n",
    "patience, trials = 2, 0\n",
    "\n",
    "for epoch in range(num_epochs):\n",
    "    train_loss, train_correct, train_total = 0.0, 0, 0\n",
    "    val_loss, val_correct, val_total = 0.0, 0, 0\n",
    "\n",
    "    # Training Phase\n",
    "    model.train()\n",
    "    for images, labels in train_loader:\n",
    "        images, labels = images.to(device), labels.to(device)\n",
    "\n",
    "        # Forward pass\n",
    "        outputs = model(images)\n",
    "        loss = criterion(outputs, labels)\n",
    "        _, predicted = torch.max(outputs.data, 1)\n",
    "        train_total += labels.size(0)\n",
    "        train_correct += (predicted == labels).sum().item()\n",
    "\n",
    "        # Backward and optimize\n",
    "        optimizer.zero_grad()\n",
    "        loss.backward()\n",
    "        optimizer.step()\n",
    "\n",
    "        train_loss += loss.item()\n",
    "\n",
    "    # Validation Phase\n",
    "    # model.eval()\n",
    "    # with torch.no_grad():\n",
    "    #     for images, labels in validation_loader:\n",
    "    #         images, labels = images.to(device), labels.to(device)\n",
    "    #         outputs = model(images)\n",
    "    #         loss = criterion(outputs, labels)\n",
    "    #         _, predicted = torch.max(outputs.data, 1)\n",
    "    #         val_total += labels.size(0)\n",
    "    #         val_correct += (predicted == labels).sum().item()\n",
    "    #         val_loss += loss.item()\n",
    "\n",
    "    # Average losses and accuracy\n",
    "    train_loss /= len(train_loader)\n",
    "    # val_loss /= len(validation_loader)\n",
    "    train_accuracy = 100 * train_correct / train_total\n",
    "    val_accuracy = 100 * val_correct / val_total\n",
    "    train_losses.append(train_loss)\n",
    "    val_losses.append(val_loss)\n",
    "    train_accuracies.append(train_accuracy)\n",
    "    val_accuracies.append(val_accuracy)\n",
    "\n",
    "    print(f'Epoch [{epoch+1}/{num_epochs}], Train Loss: {train_loss:.4f}, Validation Loss: {val_loss:.4f}, '\n",
    "          f'Train Accuracy: {train_accuracy:.2f}%, Validation Accuracy: {val_accuracy:.2f}%')\n",
    "\n",
    "    # Early Stopping\n",
    "    if val_loss < best_val_loss:\n",
    "        best_val_loss = val_loss\n",
    "        trials = 0\n",
    "    else:\n",
    "        trials += 1\n",
    "        if trials >= patience:\n",
    "            print(\"Early stopping triggered\")\n",
    "            break"
   ],
   "metadata": {
    "collapsed": false,
    "is_executing": true,
    "ExecuteTime": {
     "start_time": "2024-10-15T15:32:39.841057Z"
    }
   },
   "id": "7f79b37058e16722",
   "execution_count": null
  },
  {
   "cell_type": "markdown",
   "source": [
    "# Testing loop"
   ],
   "metadata": {
    "collapsed": false
   },
   "id": "2ef975b881c43851"
  },
  {
   "cell_type": "code",
   "outputs": [
    {
     "name": "stdout",
     "output_type": "stream",
     "text": [
      "Test Accuracy: 51.30%\n"
     ]
    }
   ],
   "source": [
    "model.eval()  # Set the model to evaluation mode\n",
    "test_loss = 0.0\n",
    "test_correct = 0\n",
    "test_total = 0\n",
    "\n",
    "with torch.no_grad():  # Disable gradient computation\n",
    "    for images, labels in test_loader:\n",
    "        images, labels = images.to(device), labels.to(device)\n",
    "\n",
    "        outputs = model(images)\n",
    "        loss = criterion(outputs, labels)\n",
    "        test_loss += loss.item()\n",
    "\n",
    "        _, predicted = torch.max(outputs.data, 1)\n",
    "        test_total += labels.size(0)\n",
    "        test_correct += (predicted == labels).sum().item()\n",
    "\n",
    "# Calculate average test loss and accuracy\n",
    "average_test_loss = test_loss / len(test_loader)\n",
    "test_accuracy = 100 * test_correct / test_total\n",
    "\n",
    "print(f'Test Loss: {average_test_loss:.4f}')\n",
    "print(f'Test Accuracy: {test_accuracy:.2f}%')"
   ],
   "metadata": {
    "collapsed": false,
    "ExecuteTime": {
     "end_time": "2024-09-17T01:22:32.583338Z",
     "start_time": "2024-09-17T01:20:50.386030Z"
    }
   },
   "id": "ccce0bb89b8b6b68",
   "execution_count": 10
  },
  {
   "cell_type": "markdown",
   "source": [
    "# Save the trained model"
   ],
   "metadata": {
    "collapsed": false
   },
   "id": "5b7ff54fd502ce8a"
  },
  {
   "cell_type": "code",
   "outputs": [],
   "source": [
    "torch.save(model.state_dict(), '../model/skin_disease_detection_mobilenetV3.pth')"
   ],
   "metadata": {
    "collapsed": false
   },
   "id": "5f5d08fce9aa56fc"
  }
 ],
 "metadata": {
  "kernelspec": {
   "display_name": "Python 3",
   "language": "python",
   "name": "python3"
  },
  "language_info": {
   "codemirror_mode": {
    "name": "ipython",
    "version": 2
   },
   "file_extension": ".py",
   "mimetype": "text/x-python",
   "name": "python",
   "nbconvert_exporter": "python",
   "pygments_lexer": "ipython2",
   "version": "2.7.6"
  }
 },
 "nbformat": 4,
 "nbformat_minor": 5
}
